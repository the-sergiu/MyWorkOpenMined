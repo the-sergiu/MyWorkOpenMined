{
 "cells": [
  {
   "cell_type": "markdown",
   "metadata": {},
   "source": [
    "# NORMAL TRAINING RELU"
   ]
  },
  {
   "cell_type": "code",
   "execution_count": 1,
   "metadata": {},
   "outputs": [],
   "source": [
    "activation_functions = []\n",
    "avg_image_inference_time = []"
   ]
  },
  {
   "cell_type": "markdown",
   "metadata": {},
   "source": [
    "## Setting up Environment"
   ]
  },
  {
   "cell_type": "code",
   "execution_count": 2,
   "metadata": {},
   "outputs": [],
   "source": [
    "import torch\n",
    "import torchvision\n",
    "import torch.nn as nn\n",
    "import torch.nn.functional as F\n",
    "import torch.optim as optim"
   ]
  },
  {
   "cell_type": "code",
   "execution_count": 3,
   "metadata": {},
   "outputs": [
    {
     "data": {
      "text/plain": [
       "<torch._C.Generator at 0x219b10cdbf0>"
      ]
     },
     "execution_count": 3,
     "metadata": {},
     "output_type": "execute_result"
    }
   ],
   "source": [
    "n_epochs = 3\n",
    "batch_size_train = 64\n",
    "batch_size_test = 1000\n",
    "learning_rate = 0.01\n",
    "momentum = 0.5\n",
    "log_interval = 10\n",
    "\n",
    "random_seed = 1\n",
    "torch.backends.cudnn.enabled = False\n",
    "torch.manual_seed(random_seed)"
   ]
  },
  {
   "cell_type": "markdown",
   "metadata": {},
   "source": [
    "## Preparing Dataset (ReLU - Normal)"
   ]
  },
  {
   "cell_type": "code",
   "execution_count": 4,
   "metadata": {},
   "outputs": [],
   "source": [
    "train_loader = torch.utils.data.DataLoader(\n",
    "  torchvision.datasets.MNIST('C:\\\\Users\\\\sergi\\\\Desktop\\\\Issue#4003-PySyft\\\\files', train=True, download=True,\n",
    "                             transform=torchvision.transforms.Compose([\n",
    "                               torchvision.transforms.ToTensor(),\n",
    "                               torchvision.transforms.Normalize(\n",
    "                                 (0.1307,), (0.3081,))\n",
    "                             ])),\n",
    "  batch_size=batch_size_train, shuffle=True)\n",
    "\n",
    "test_loader = torch.utils.data.DataLoader(\n",
    "  torchvision.datasets.MNIST('C:\\\\Users\\\\sergi\\\\Desktop\\\\Issue#4003-PySyft\\\\files', train=False, download=True,\n",
    "                             transform=torchvision.transforms.Compose([\n",
    "                               torchvision.transforms.ToTensor(),\n",
    "                               torchvision.transforms.Normalize(\n",
    "                                 (0.1307,), (0.3081,))\n",
    "                             ])),\n",
    "  batch_size=batch_size_test, shuffle=True)"
   ]
  },
  {
   "cell_type": "code",
   "execution_count": 5,
   "metadata": {},
   "outputs": [
    {
     "data": {
      "text/plain": [
       "'C:\\\\Users\\\\sergi\\\\Desktop\\\\Issue#4003-PySyft'"
      ]
     },
     "execution_count": 5,
     "metadata": {},
     "output_type": "execute_result"
    }
   ],
   "source": [
    "import os\n",
    "os.getcwd()"
   ]
  },
  {
   "cell_type": "code",
   "execution_count": 6,
   "metadata": {},
   "outputs": [],
   "source": [
    "examples = enumerate(test_loader)\n",
    "batch_idx, (example_data, example_targets) = next(examples)"
   ]
  },
  {
   "cell_type": "code",
   "execution_count": 7,
   "metadata": {},
   "outputs": [
    {
     "data": {
      "text/plain": [
       "torch.Size([1000, 1, 28, 28])"
      ]
     },
     "execution_count": 7,
     "metadata": {},
     "output_type": "execute_result"
    }
   ],
   "source": [
    "example_data.shape"
   ]
  },
  {
   "cell_type": "code",
   "execution_count": 8,
   "metadata": {},
   "outputs": [
    {
     "data": {
      "image/png": "[encoded data removed]",
      "text/plain": [
       "<Figure size 432x288 with 6 Axes>"
      ]
     },
     "execution_count": 8,
     "metadata": {},
     "output_type": "execute_result"
    },
    {
     "data": {
      "image/png": "[encoded data removed]",
      "text/plain": [
       "<Figure size 432x288 with 6 Axes>"
      ]
     },
     "metadata": {},
     "output_type": "display_data"
    }
   ],
   "source": [
    "import matplotlib.pyplot as plt\n",
    "\n",
    "fig = plt.figure()\n",
    "for i in range(6):\n",
    "  plt.subplot(2,3,i+1)\n",
    "  plt.tight_layout()\n",
    "  plt.imshow(example_data[i][0], cmap='gray', interpolation='none')\n",
    "  plt.title(\"Ground Truth: {}\".format(example_targets[i]))\n",
    "  plt.xticks([])\n",
    "  plt.yticks([])\n",
    "fig"
   ]
  },
  {
   "cell_type": "markdown",
   "metadata": {},
   "source": [
    "## Building the Network (ReLU - Normal)"
   ]
  },
  {
   "cell_type": "code",
   "execution_count": 9,
   "metadata": {},
   "outputs": [],
   "source": [
    "class Net(nn.Module):\n",
    "    def __init__(self):\n",
    "        super(Net, self).__init__()\n",
    "        self.conv1 = nn.Conv2d(1, 10, kernel_size=5)\n",
    "        self.conv2 = nn.Conv2d(10, 20, kernel_size=5)\n",
    "        self.conv2_drop = nn.Dropout2d()\n",
    "        self.fc1 = nn.Linear(320, 50)\n",
    "        self.fc2 = nn.Linear(50, 10)\n",
    "\n",
    "    def forward(self, x):\n",
    "        x = F.relu(F.max_pool2d(self.conv1(x), 2))\n",
    "        x = F.relu(F.max_pool2d(self.conv2_drop(self.conv2(x)), 2))\n",
    "        x = x.view(-1, 320)\n",
    "        x = F.relu(self.fc1(x))\n",
    "        x = F.dropout(x, training=self.training)\n",
    "        x = self.fc2(x)\n",
    "        return F.log_softmax(input=x)"
   ]
  },
  {
   "cell_type": "code",
   "execution_count": 10,
   "metadata": {},
   "outputs": [],
   "source": [
    "network = Net()\n",
    "optimizer = optim.SGD(network.parameters(), lr=learning_rate,\n",
    "                      momentum=momentum)"
   ]
  },
  {
   "cell_type": "markdown",
   "metadata": {},
   "source": [
    "## Training the Model"
   ]
  },
  {
   "cell_type": "code",
   "execution_count": 11,
   "metadata": {},
   "outputs": [],
   "source": [
    "train_losses = []\n",
    "train_counter = []\n",
    "test_losses = []\n",
    "test_counter = [i*len(train_loader.dataset) for i in range(n_epochs + 1)]"
   ]
  },
  {
   "cell_type": "code",
   "execution_count": 12,
   "metadata": {},
   "outputs": [],
   "source": [
    "def train(epoch):\n",
    "  network.train()\n",
    "  for batch_idx, (data, target) in enumerate(train_loader):\n",
    "    optimizer.zero_grad()\n",
    "    output = network(data)\n",
    "    loss = F.nll_loss(output, target)\n",
    "    loss.backward()\n",
    "    optimizer.step()\n",
    "    if batch_idx % log_interval == 0:\n",
    "      print('Train Epoch: {} [{}/{} ({:.0f}%)]\\tLoss: {:.6f}'.format(\n",
    "        epoch, batch_idx * len(data), len(train_loader.dataset),\n",
    "        100. * batch_idx / len(train_loader), loss.item()))\n",
    "      train_losses.append(loss.item())\n",
    "      train_counter.append(\n",
    "        (batch_idx*64) + ((epoch-1)*len(train_loader.dataset)))\n",
    "      #torch.save(network.state_dict(), '\\results\\model.pth')\n",
    "      #torch.save(optimizer.state_dict(), '\\results\\optimizer.pth')"
   ]
  },
  {
   "cell_type": "code",
   "execution_count": 13,
   "metadata": {},
   "outputs": [],
   "source": [
    "def test():\n",
    "  network.eval()\n",
    "  test_loss = 0\n",
    "  correct = 0\n",
    "  with torch.no_grad():\n",
    "    for data, target in test_loader:\n",
    "      output = network(data)\n",
    "      test_loss += F.nll_loss(output, target, size_average=False).item()\n",
    "      pred = output.data.max(1, keepdim=True)[1]\n",
    "      correct += pred.eq(target.data.view_as(pred)).sum()\n",
    "  test_loss /= len(test_loader.dataset)\n",
    "  test_losses.append(test_loss)\n",
    "  print('\\nTest set: Avg. loss: {:.4f}, Accuracy: {}/{} ({:.0f}%)\\n'.format(\n",
    "    test_loss, correct, len(test_loader.dataset),\n",
    "    100. * correct / len(test_loader.dataset)))"
   ]
  },
  {
   "cell_type": "code",
   "execution_count": 14,
   "metadata": {},
   "outputs": [
    {
     "name": "stderr",
     "output_type": "stream",
     "text": [
      "C:\\Users\\sergi\\Anaconda3\\lib\\site-packages\\ipykernel_launcher.py:17: UserWarning: Implicit dimension choice for log_softmax has been deprecated. Change the call to include dim=X as an argument.\n",
      "C:\\Users\\sergi\\Anaconda3\\lib\\site-packages\\torch\\nn\\_reduction.py:43: UserWarning: size_average and reduce args will be deprecated, please use reduction='sum' instead.\n",
      "  warnings.warn(warning.format(ret))\n"
     ]
    },
    {
     "name": "stdout",
     "output_type": "stream",
     "text": [
      "\n",
      "Test set: Avg. loss: 2.3004, Accuracy: 751/10000 (8%)\n",
      "\n",
      "Train Epoch: 1 [0/60000 (0%)]\tLoss: 2.268458\n",
      "Train Epoch: 1 [640/60000 (1%)]\tLoss: 2.268337\n",
      "Train Epoch: 1 [1280/60000 (2%)]\tLoss: 2.274000\n",
      "Train Epoch: 1 [1920/60000 (3%)]\tLoss: 2.251669\n",
      "Train Epoch: 1 [2560/60000 (4%)]\tLoss: 2.236826\n",
      "Train Epoch: 1 [3200/60000 (5%)]\tLoss: 2.223578\n",
      "Train Epoch: 1 [3840/60000 (6%)]\tLoss: 2.153440\n",
      "Train Epoch: 1 [4480/60000 (7%)]\tLoss: 2.096371\n",
      "Train Epoch: 1 [5120/60000 (9%)]\tLoss: 1.974112\n",
      "Train Epoch: 1 [5760/60000 (10%)]\tLoss: 1.944348\n",
      "Train Epoch: 1 [6400/60000 (11%)]\tLoss: 1.839604\n",
      "Train Epoch: 1 [7040/60000 (12%)]\tLoss: 1.765901\n",
      "Train Epoch: 1 [7680/60000 (13%)]\tLoss: 1.699960\n",
      "Train Epoch: 1 [8320/60000 (14%)]\tLoss: 1.691150\n",
      "Train Epoch: 1 [8960/60000 (15%)]\tLoss: 1.509484\n",
      "Train Epoch: 1 [9600/60000 (16%)]\tLoss: 1.395923\n",
      "Train Epoch: 1 [10240/60000 (17%)]\tLoss: 1.286211\n",
      "Train Epoch: 1 [10880/60000 (18%)]\tLoss: 1.321333\n",
      "Train Epoch: 1 [11520/60000 (19%)]\tLoss: 1.273633\n",
      "Train Epoch: 1 [12160/60000 (20%)]\tLoss: 1.234485\n",
      "Train Epoch: 1 [12800/60000 (21%)]\tLoss: 0.927138\n",
      "Train Epoch: 1 [13440/60000 (22%)]\tLoss: 1.396969\n",
      "Train Epoch: 1 [14080/60000 (23%)]\tLoss: 0.962420\n",
      "Train Epoch: 1 [14720/60000 (25%)]\tLoss: 1.100584\n",
      "Train Epoch: 1 [15360/60000 (26%)]\tLoss: 0.950474\n",
      "Train Epoch: 1 [16000/60000 (27%)]\tLoss: 1.051681\n",
      "Train Epoch: 1 [16640/60000 (28%)]\tLoss: 0.932693\n",
      "Train Epoch: 1 [17280/60000 (29%)]\tLoss: 0.841084\n",
      "Train Epoch: 1 [17920/60000 (30%)]\tLoss: 1.127113\n",
      "Train Epoch: 1 [18560/60000 (31%)]\tLoss: 0.647672\n",
      "Train Epoch: 1 [19200/60000 (32%)]\tLoss: 0.932272\n",
      "Train Epoch: 1 [19840/60000 (33%)]\tLoss: 0.785785\n",
      "Train Epoch: 1 [20480/60000 (34%)]\tLoss: 0.799317\n",
      "Train Epoch: 1 [21120/60000 (35%)]\tLoss: 0.756924\n",
      "Train Epoch: 1 [21760/60000 (36%)]\tLoss: 0.923029\n",
      "Train Epoch: 1 [22400/60000 (37%)]\tLoss: 0.607836\n",
      "Train Epoch: 1 [23040/60000 (38%)]\tLoss: 0.858238\n",
      "Train Epoch: 1 [23680/60000 (39%)]\tLoss: 0.642508\n",
      "Train Epoch: 1 [24320/60000 (41%)]\tLoss: 0.806826\n",
      "Train Epoch: 1 [24960/60000 (42%)]\tLoss: 0.846689\n",
      "Train Epoch: 1 [25600/60000 (43%)]\tLoss: 0.772411\n",
      "Train Epoch: 1 [26240/60000 (44%)]\tLoss: 0.726136\n",
      "Train Epoch: 1 [26880/60000 (45%)]\tLoss: 0.764420\n",
      "Train Epoch: 1 [27520/60000 (46%)]\tLoss: 0.739463\n",
      "Train Epoch: 1 [28160/60000 (47%)]\tLoss: 0.798195\n",
      "Train Epoch: 1 [28800/60000 (48%)]\tLoss: 0.704370\n",
      "Train Epoch: 1 [29440/60000 (49%)]\tLoss: 0.654305\n",
      "Train Epoch: 1 [30080/60000 (50%)]\tLoss: 1.025721\n",
      "Train Epoch: 1 [30720/60000 (51%)]\tLoss: 0.658296\n",
      "Train Epoch: 1 [31360/60000 (52%)]\tLoss: 0.896879\n",
      "Train Epoch: 1 [32000/60000 (53%)]\tLoss: 0.723998\n",
      "Train Epoch: 1 [32640/60000 (54%)]\tLoss: 0.698357\n",
      "Train Epoch: 1 [33280/60000 (55%)]\tLoss: 0.573205\n",
      "Train Epoch: 1 [33920/60000 (57%)]\tLoss: 0.463391\n",
      "Train Epoch: 1 [34560/60000 (58%)]\tLoss: 0.777205\n",
      "Train Epoch: 1 [35200/60000 (59%)]\tLoss: 0.471379\n",
      "Train Epoch: 1 [35840/60000 (60%)]\tLoss: 0.746105\n",
      "Train Epoch: 1 [36480/60000 (61%)]\tLoss: 0.332377\n",
      "Train Epoch: 1 [37120/60000 (62%)]\tLoss: 0.403448\n",
      "Train Epoch: 1 [37760/60000 (63%)]\tLoss: 0.583694\n",
      "Train Epoch: 1 [38400/60000 (64%)]\tLoss: 0.728190\n",
      "Train Epoch: 1 [39040/60000 (65%)]\tLoss: 0.437772\n",
      "Train Epoch: 1 [39680/60000 (66%)]\tLoss: 0.472810\n",
      "Train Epoch: 1 [40320/60000 (67%)]\tLoss: 0.609086\n",
      "Train Epoch: 1 [40960/60000 (68%)]\tLoss: 0.466858\n",
      "Train Epoch: 1 [41600/60000 (69%)]\tLoss: 0.412631\n",
      "Train Epoch: 1 [42240/60000 (70%)]\tLoss: 0.583170\n",
      "Train Epoch: 1 [42880/60000 (71%)]\tLoss: 0.600970\n",
      "Train Epoch: 1 [43520/60000 (72%)]\tLoss: 0.560955\n",
      "Train Epoch: 1 [44160/60000 (74%)]\tLoss: 0.483751\n",
      "Train Epoch: 1 [44800/60000 (75%)]\tLoss: 0.603202\n",
      "Train Epoch: 1 [45440/60000 (76%)]\tLoss: 0.695228\n",
      "Train Epoch: 1 [46080/60000 (77%)]\tLoss: 0.554761\n",
      "Train Epoch: 1 [46720/60000 (78%)]\tLoss: 0.877364\n",
      "Train Epoch: 1 [47360/60000 (79%)]\tLoss: 0.384921\n",
      "Train Epoch: 1 [48000/60000 (80%)]\tLoss: 0.456056\n",
      "Train Epoch: 1 [48640/60000 (81%)]\tLoss: 0.351530\n",
      "Train Epoch: 1 [49280/60000 (82%)]\tLoss: 0.581446\n",
      "Train Epoch: 1 [49920/60000 (83%)]\tLoss: 0.383554\n",
      "Train Epoch: 1 [50560/60000 (84%)]\tLoss: 0.390374\n",
      "Train Epoch: 1 [51200/60000 (85%)]\tLoss: 0.793592\n",
      "Train Epoch: 1 [51840/60000 (86%)]\tLoss: 0.441934\n",
      "Train Epoch: 1 [52480/60000 (87%)]\tLoss: 0.654367\n",
      "Train Epoch: 1 [53120/60000 (88%)]\tLoss: 0.748749\n",
      "Train Epoch: 1 [53760/60000 (90%)]\tLoss: 0.547702\n",
      "Train Epoch: 1 [54400/60000 (91%)]\tLoss: 0.443732\n",
      "Train Epoch: 1 [55040/60000 (92%)]\tLoss: 0.689251\n",
      "Train Epoch: 1 [55680/60000 (93%)]\tLoss: 0.452331\n",
      "Train Epoch: 1 [56320/60000 (94%)]\tLoss: 0.543497\n",
      "Train Epoch: 1 [56960/60000 (95%)]\tLoss: 0.570985\n",
      "Train Epoch: 1 [57600/60000 (96%)]\tLoss: 0.341394\n",
      "Train Epoch: 1 [58240/60000 (97%)]\tLoss: 0.480839\n",
      "Train Epoch: 1 [58880/60000 (98%)]\tLoss: 0.325306\n",
      "Train Epoch: 1 [59520/60000 (99%)]\tLoss: 0.474422\n",
      "\n",
      "Test set: Avg. loss: 0.1980, Accuracy: 9452/10000 (95%)\n",
      "\n",
      "Train Epoch: 2 [0/60000 (0%)]\tLoss: 0.556870\n",
      "Train Epoch: 2 [640/60000 (1%)]\tLoss: 0.303370\n",
      "Train Epoch: 2 [1280/60000 (2%)]\tLoss: 0.375093\n",
      "Train Epoch: 2 [1920/60000 (3%)]\tLoss: 0.288795\n",
      "Train Epoch: 2 [2560/60000 (4%)]\tLoss: 0.472842\n",
      "Train Epoch: 2 [3200/60000 (5%)]\tLoss: 0.673779\n",
      "Train Epoch: 2 [3840/60000 (6%)]\tLoss: 0.527089\n",
      "Train Epoch: 2 [4480/60000 (7%)]\tLoss: 0.449757\n",
      "Train Epoch: 2 [5120/60000 (9%)]\tLoss: 0.394196\n",
      "Train Epoch: 2 [5760/60000 (10%)]\tLoss: 0.479677\n",
      "Train Epoch: 2 [6400/60000 (11%)]\tLoss: 0.526012\n",
      "Train Epoch: 2 [7040/60000 (12%)]\tLoss: 0.423752\n",
      "Train Epoch: 2 [7680/60000 (13%)]\tLoss: 0.305035\n",
      "Train Epoch: 2 [8320/60000 (14%)]\tLoss: 0.343298\n",
      "Train Epoch: 2 [8960/60000 (15%)]\tLoss: 0.396213\n",
      "Train Epoch: 2 [9600/60000 (16%)]\tLoss: 0.387937\n",
      "Train Epoch: 2 [10240/60000 (17%)]\tLoss: 0.398548\n",
      "Train Epoch: 2 [10880/60000 (18%)]\tLoss: 0.583233\n",
      "Train Epoch: 2 [11520/60000 (19%)]\tLoss: 0.561353\n",
      "Train Epoch: 2 [12160/60000 (20%)]\tLoss: 0.507064\n",
      "Train Epoch: 2 [12800/60000 (21%)]\tLoss: 0.392420\n",
      "Train Epoch: 2 [13440/60000 (22%)]\tLoss: 0.471825\n",
      "Train Epoch: 2 [14080/60000 (23%)]\tLoss: 0.375616\n",
      "Train Epoch: 2 [14720/60000 (25%)]\tLoss: 0.331350\n",
      "Train Epoch: 2 [15360/60000 (26%)]\tLoss: 0.566630\n",
      "Train Epoch: 2 [16000/60000 (27%)]\tLoss: 0.376240\n",
      "Train Epoch: 2 [16640/60000 (28%)]\tLoss: 0.515734\n",
      "Train Epoch: 2 [17280/60000 (29%)]\tLoss: 0.394645\n",
      "Train Epoch: 2 [17920/60000 (30%)]\tLoss: 0.340467\n",
      "Train Epoch: 2 [18560/60000 (31%)]\tLoss: 0.372046\n",
      "Train Epoch: 2 [19200/60000 (32%)]\tLoss: 0.479514\n",
      "Train Epoch: 2 [19840/60000 (33%)]\tLoss: 0.356167\n",
      "Train Epoch: 2 [20480/60000 (34%)]\tLoss: 0.386033\n",
      "Train Epoch: 2 [21120/60000 (35%)]\tLoss: 0.698289\n",
      "Train Epoch: 2 [21760/60000 (36%)]\tLoss: 0.423869\n",
      "Train Epoch: 2 [22400/60000 (37%)]\tLoss: 0.435298\n",
      "Train Epoch: 2 [23040/60000 (38%)]\tLoss: 0.475509\n",
      "Train Epoch: 2 [23680/60000 (39%)]\tLoss: 0.430919\n",
      "Train Epoch: 2 [24320/60000 (41%)]\tLoss: 0.339691\n",
      "Train Epoch: 2 [24960/60000 (42%)]\tLoss: 0.341178\n",
      "Train Epoch: 2 [25600/60000 (43%)]\tLoss: 0.460937\n",
      "Train Epoch: 2 [26240/60000 (44%)]\tLoss: 0.327046\n",
      "Train Epoch: 2 [26880/60000 (45%)]\tLoss: 0.435364\n",
      "Train Epoch: 2 [27520/60000 (46%)]\tLoss: 0.375295\n",
      "Train Epoch: 2 [28160/60000 (47%)]\tLoss: 0.317332\n",
      "Train Epoch: 2 [28800/60000 (48%)]\tLoss: 0.480588\n",
      "Train Epoch: 2 [29440/60000 (49%)]\tLoss: 0.432754\n",
      "Train Epoch: 2 [30080/60000 (50%)]\tLoss: 0.649104\n",
      "Train Epoch: 2 [30720/60000 (51%)]\tLoss: 0.346626\n",
      "Train Epoch: 2 [31360/60000 (52%)]\tLoss: 0.392626\n",
      "Train Epoch: 2 [32000/60000 (53%)]\tLoss: 0.426547\n",
      "Train Epoch: 2 [32640/60000 (54%)]\tLoss: 0.339207\n",
      "Train Epoch: 2 [33280/60000 (55%)]\tLoss: 0.286468\n",
      "Train Epoch: 2 [33920/60000 (57%)]\tLoss: 0.374775\n",
      "Train Epoch: 2 [34560/60000 (58%)]\tLoss: 0.421924\n",
      "Train Epoch: 2 [35200/60000 (59%)]\tLoss: 0.618486\n",
      "Train Epoch: 2 [35840/60000 (60%)]\tLoss: 0.242203\n",
      "Train Epoch: 2 [36480/60000 (61%)]\tLoss: 0.491099\n",
      "Train Epoch: 2 [37120/60000 (62%)]\tLoss: 0.397910\n",
      "Train Epoch: 2 [37760/60000 (63%)]\tLoss: 0.347634\n",
      "Train Epoch: 2 [38400/60000 (64%)]\tLoss: 0.212516\n",
      "Train Epoch: 2 [39040/60000 (65%)]\tLoss: 0.317565\n",
      "Train Epoch: 2 [39680/60000 (66%)]\tLoss: 0.382603\n",
      "Train Epoch: 2 [40320/60000 (67%)]\tLoss: 0.380561\n",
      "Train Epoch: 2 [40960/60000 (68%)]\tLoss: 0.329773\n",
      "Train Epoch: 2 [41600/60000 (69%)]\tLoss: 0.306056\n",
      "Train Epoch: 2 [42240/60000 (70%)]\tLoss: 0.174036\n",
      "Train Epoch: 2 [42880/60000 (71%)]\tLoss: 0.224451\n",
      "Train Epoch: 2 [43520/60000 (72%)]\tLoss: 0.360495\n"
     ]
    },
    {
     "name": "stdout",
     "output_type": "stream",
     "text": [
      "Train Epoch: 2 [44160/60000 (74%)]\tLoss: 0.393788\n",
      "Train Epoch: 2 [44800/60000 (75%)]\tLoss: 0.458176\n",
      "Train Epoch: 2 [45440/60000 (76%)]\tLoss: 0.438005\n",
      "Train Epoch: 2 [46080/60000 (77%)]\tLoss: 0.424725\n",
      "Train Epoch: 2 [46720/60000 (78%)]\tLoss: 0.268167\n",
      "Train Epoch: 2 [47360/60000 (79%)]\tLoss: 0.273956\n",
      "Train Epoch: 2 [48000/60000 (80%)]\tLoss: 0.502127\n",
      "Train Epoch: 2 [48640/60000 (81%)]\tLoss: 0.348544\n",
      "Train Epoch: 2 [49280/60000 (82%)]\tLoss: 0.373521\n",
      "Train Epoch: 2 [49920/60000 (83%)]\tLoss: 0.302535\n",
      "Train Epoch: 2 [50560/60000 (84%)]\tLoss: 0.287468\n",
      "Train Epoch: 2 [51200/60000 (85%)]\tLoss: 0.434851\n",
      "Train Epoch: 2 [51840/60000 (86%)]\tLoss: 0.187226\n",
      "Train Epoch: 2 [52480/60000 (87%)]\tLoss: 0.387121\n",
      "Train Epoch: 2 [53120/60000 (88%)]\tLoss: 0.393638\n",
      "Train Epoch: 2 [53760/60000 (90%)]\tLoss: 0.286228\n",
      "Train Epoch: 2 [54400/60000 (91%)]\tLoss: 0.311356\n",
      "Train Epoch: 2 [55040/60000 (92%)]\tLoss: 0.381670\n",
      "Train Epoch: 2 [55680/60000 (93%)]\tLoss: 0.655527\n",
      "Train Epoch: 2 [56320/60000 (94%)]\tLoss: 0.330530\n",
      "Train Epoch: 2 [56960/60000 (95%)]\tLoss: 0.571945\n",
      "Train Epoch: 2 [57600/60000 (96%)]\tLoss: 0.378216\n",
      "Train Epoch: 2 [58240/60000 (97%)]\tLoss: 0.274197\n",
      "Train Epoch: 2 [58880/60000 (98%)]\tLoss: 0.214878\n",
      "Train Epoch: 2 [59520/60000 (99%)]\tLoss: 0.332718\n",
      "\n",
      "Test set: Avg. loss: 0.1266, Accuracy: 9606/10000 (96%)\n",
      "\n",
      "Train Epoch: 3 [0/60000 (0%)]\tLoss: 0.268300\n",
      "Train Epoch: 3 [640/60000 (1%)]\tLoss: 0.295039\n",
      "Train Epoch: 3 [1280/60000 (2%)]\tLoss: 0.395962\n",
      "Train Epoch: 3 [1920/60000 (3%)]\tLoss: 0.260705\n",
      "Train Epoch: 3 [2560/60000 (4%)]\tLoss: 0.387333\n",
      "Train Epoch: 3 [3200/60000 (5%)]\tLoss: 0.440737\n",
      "Train Epoch: 3 [3840/60000 (6%)]\tLoss: 0.385133\n",
      "Train Epoch: 3 [4480/60000 (7%)]\tLoss: 0.167962\n",
      "Train Epoch: 3 [5120/60000 (9%)]\tLoss: 0.252929\n",
      "Train Epoch: 3 [5760/60000 (10%)]\tLoss: 0.437836\n",
      "Train Epoch: 3 [6400/60000 (11%)]\tLoss: 0.354594\n",
      "Train Epoch: 3 [7040/60000 (12%)]\tLoss: 0.287827\n",
      "Train Epoch: 3 [7680/60000 (13%)]\tLoss: 0.378071\n",
      "Train Epoch: 3 [8320/60000 (14%)]\tLoss: 0.226585\n",
      "Train Epoch: 3 [8960/60000 (15%)]\tLoss: 0.399456\n",
      "Train Epoch: 3 [9600/60000 (16%)]\tLoss: 0.366016\n",
      "Train Epoch: 3 [10240/60000 (17%)]\tLoss: 0.427366\n",
      "Train Epoch: 3 [10880/60000 (18%)]\tLoss: 0.328788\n",
      "Train Epoch: 3 [11520/60000 (19%)]\tLoss: 0.257181\n",
      "Train Epoch: 3 [12160/60000 (20%)]\tLoss: 0.444057\n",
      "Train Epoch: 3 [12800/60000 (21%)]\tLoss: 0.273386\n",
      "Train Epoch: 3 [13440/60000 (22%)]\tLoss: 0.219340\n",
      "Train Epoch: 3 [14080/60000 (23%)]\tLoss: 0.213819\n",
      "Train Epoch: 3 [14720/60000 (25%)]\tLoss: 0.305092\n",
      "Train Epoch: 3 [15360/60000 (26%)]\tLoss: 0.177144\n",
      "Train Epoch: 3 [16000/60000 (27%)]\tLoss: 0.409306\n",
      "Train Epoch: 3 [16640/60000 (28%)]\tLoss: 0.263060\n",
      "Train Epoch: 3 [17280/60000 (29%)]\tLoss: 0.465490\n",
      "Train Epoch: 3 [17920/60000 (30%)]\tLoss: 0.260474\n",
      "Train Epoch: 3 [18560/60000 (31%)]\tLoss: 0.157255\n",
      "Train Epoch: 3 [19200/60000 (32%)]\tLoss: 0.584316\n",
      "Train Epoch: 3 [19840/60000 (33%)]\tLoss: 0.238964\n",
      "Train Epoch: 3 [20480/60000 (34%)]\tLoss: 0.337534\n",
      "Train Epoch: 3 [21120/60000 (35%)]\tLoss: 0.338808\n",
      "Train Epoch: 3 [21760/60000 (36%)]\tLoss: 0.280044\n",
      "Train Epoch: 3 [22400/60000 (37%)]\tLoss: 0.336507\n",
      "Train Epoch: 3 [23040/60000 (38%)]\tLoss: 0.424801\n",
      "Train Epoch: 3 [23680/60000 (39%)]\tLoss: 0.316065\n",
      "Train Epoch: 3 [24320/60000 (41%)]\tLoss: 0.324932\n",
      "Train Epoch: 3 [24960/60000 (42%)]\tLoss: 0.151524\n",
      "Train Epoch: 3 [25600/60000 (43%)]\tLoss: 0.299897\n",
      "Train Epoch: 3 [26240/60000 (44%)]\tLoss: 0.460233\n",
      "Train Epoch: 3 [26880/60000 (45%)]\tLoss: 0.281747\n",
      "Train Epoch: 3 [27520/60000 (46%)]\tLoss: 0.388621\n",
      "Train Epoch: 3 [28160/60000 (47%)]\tLoss: 0.232922\n",
      "Train Epoch: 3 [28800/60000 (48%)]\tLoss: 0.147151\n",
      "Train Epoch: 3 [29440/60000 (49%)]\tLoss: 0.192721\n",
      "Train Epoch: 3 [30080/60000 (50%)]\tLoss: 0.218080\n",
      "Train Epoch: 3 [30720/60000 (51%)]\tLoss: 0.314701\n",
      "Train Epoch: 3 [31360/60000 (52%)]\tLoss: 0.341788\n",
      "Train Epoch: 3 [32000/60000 (53%)]\tLoss: 0.304680\n",
      "Train Epoch: 3 [32640/60000 (54%)]\tLoss: 0.372027\n",
      "Train Epoch: 3 [33280/60000 (55%)]\tLoss: 0.357736\n",
      "Train Epoch: 3 [33920/60000 (57%)]\tLoss: 0.179988\n",
      "Train Epoch: 3 [34560/60000 (58%)]\tLoss: 0.301427\n",
      "Train Epoch: 3 [35200/60000 (59%)]\tLoss: 0.159512\n",
      "Train Epoch: 3 [35840/60000 (60%)]\tLoss: 0.317245\n",
      "Train Epoch: 3 [36480/60000 (61%)]\tLoss: 0.183389\n",
      "Train Epoch: 3 [37120/60000 (62%)]\tLoss: 0.395813\n",
      "Train Epoch: 3 [37760/60000 (63%)]\tLoss: 0.283647\n",
      "Train Epoch: 3 [38400/60000 (64%)]\tLoss: 0.200706\n",
      "Train Epoch: 3 [39040/60000 (65%)]\tLoss: 0.354077\n",
      "Train Epoch: 3 [39680/60000 (66%)]\tLoss: 0.138371\n",
      "Train Epoch: 3 [40320/60000 (67%)]\tLoss: 0.281939\n",
      "Train Epoch: 3 [40960/60000 (68%)]\tLoss: 0.317976\n",
      "Train Epoch: 3 [41600/60000 (69%)]\tLoss: 0.153229\n",
      "Train Epoch: 3 [42240/60000 (70%)]\tLoss: 0.187697\n",
      "Train Epoch: 3 [42880/60000 (71%)]\tLoss: 0.219282\n",
      "Train Epoch: 3 [43520/60000 (72%)]\tLoss: 0.266531\n",
      "Train Epoch: 3 [44160/60000 (74%)]\tLoss: 0.317546\n",
      "Train Epoch: 3 [44800/60000 (75%)]\tLoss: 0.244531\n",
      "Train Epoch: 3 [45440/60000 (76%)]\tLoss: 0.253158\n",
      "Train Epoch: 3 [46080/60000 (77%)]\tLoss: 0.297217\n",
      "Train Epoch: 3 [46720/60000 (78%)]\tLoss: 0.493641\n",
      "Train Epoch: 3 [47360/60000 (79%)]\tLoss: 0.357789\n",
      "Train Epoch: 3 [48000/60000 (80%)]\tLoss: 0.397251\n",
      "Train Epoch: 3 [48640/60000 (81%)]\tLoss: 0.221722\n",
      "Train Epoch: 3 [49280/60000 (82%)]\tLoss: 0.151254\n",
      "Train Epoch: 3 [49920/60000 (83%)]\tLoss: 0.482294\n",
      "Train Epoch: 3 [50560/60000 (84%)]\tLoss: 0.306665\n",
      "Train Epoch: 3 [51200/60000 (85%)]\tLoss: 0.258967\n",
      "Train Epoch: 3 [51840/60000 (86%)]\tLoss: 0.238225\n",
      "Train Epoch: 3 [52480/60000 (87%)]\tLoss: 0.212933\n",
      "Train Epoch: 3 [53120/60000 (88%)]\tLoss: 0.236715\n",
      "Train Epoch: 3 [53760/60000 (90%)]\tLoss: 0.400176\n",
      "Train Epoch: 3 [54400/60000 (91%)]\tLoss: 0.446281\n",
      "Train Epoch: 3 [55040/60000 (92%)]\tLoss: 0.294083\n",
      "Train Epoch: 3 [55680/60000 (93%)]\tLoss: 0.265524\n",
      "Train Epoch: 3 [56320/60000 (94%)]\tLoss: 0.302298\n",
      "Train Epoch: 3 [56960/60000 (95%)]\tLoss: 0.329668\n",
      "Train Epoch: 3 [57600/60000 (96%)]\tLoss: 0.182153\n",
      "Train Epoch: 3 [58240/60000 (97%)]\tLoss: 0.108774\n",
      "Train Epoch: 3 [58880/60000 (98%)]\tLoss: 0.204108\n",
      "Train Epoch: 3 [59520/60000 (99%)]\tLoss: 0.326908\n",
      "\n",
      "Test set: Avg. loss: 0.0926, Accuracy: 9720/10000 (97%)\n",
      "\n"
     ]
    }
   ],
   "source": [
    "test()\n",
    "for epoch in range(1, n_epochs + 1):\n",
    "  train(epoch)\n",
    "  test()"
   ]
  },
  {
   "cell_type": "code",
   "execution_count": 15,
   "metadata": {},
   "outputs": [],
   "source": [
    "torch.save(network.state_dict(), 'results\\model.pth')\n",
    "torch.save(optimizer.state_dict(), 'results\\optimizer.pth')"
   ]
  },
  {
   "cell_type": "markdown",
   "metadata": {},
   "source": [
    "## Time Inference (Normal + ReLU)"
   ]
  },
  {
   "cell_type": "code",
   "execution_count": 16,
   "metadata": {},
   "outputs": [
    {
     "data": {
      "text/plain": [
       "torch.Size([100, 1, 28, 28])"
      ]
     },
     "execution_count": 16,
     "metadata": {},
     "output_type": "execute_result"
    }
   ],
   "source": [
    "# 100 samples of test images\n",
    "inference_test_data = example_data[:100]\n",
    "inference_test_data.shape"
   ]
  },
  {
   "cell_type": "code",
   "execution_count": 18,
   "metadata": {},
   "outputs": [
    {
     "name": "stdout",
     "output_type": "stream",
     "text": [
      "Average inference time for Normal training, using ReLU activation:0.00020682099999987712 ms\n"
     ]
    },
    {
     "name": "stderr",
     "output_type": "stream",
     "text": [
      "C:\\Users\\sergi\\Anaconda3\\lib\\site-packages\\ipykernel_launcher.py:17: UserWarning: Implicit dimension choice for log_softmax has been deprecated. Change the call to include dim=X as an argument.\n"
     ]
    }
   ],
   "source": [
    "from time import perf_counter\n",
    "\n",
    "with torch.no_grad():\n",
    "    t1_start = perf_counter()\n",
    "    output = network(inference_test_data)\n",
    "    inference_time_on_100_images = perf_counter() - t1_start\n",
    "\n",
    "inference_time_on_100_images\n",
    "print(f\"Average inference time for Normal training, using ReLU activation:{inference_time_on_100_images / 100} s\")\n",
    "activation_functions.append('ReLU')\n",
    "avg_image_inference_time.append(inference_time_on_100_images / 100)"
   ]
  },
  {
   "cell_type": "code",
   "execution_count": 49,
   "metadata": {},
   "outputs": [
    {
     "data": {
      "image/png": "[encoded data removed]",
      "text/plain": [
       "<Figure size 432x288 with 1 Axes>"
      ]
     },
     "metadata": {
      "needs_background": "light"
     },
     "output_type": "display_data"
    }
   ],
   "source": [
    "fig, ax = plt.subplots()\n",
    "ax.bar(x=activation_functions, height=avg_image_inference_time)\n",
    "ax.set_xlabel('Activation functions')\n",
    "ax.set_ylabel('Inference time per image (s)')\n",
    "plt.show()"
   ]
  },
  {
   "cell_type": "code",
   "execution_count": 21,
   "metadata": {},
   "outputs": [
    {
     "name": "stdout",
     "output_type": "stream",
     "text": [
      "['ReLU']\n",
      "[0.00020682099999987712]\n"
     ]
    }
   ],
   "source": [
    "print(activation_functions)\n",
    "print(avg_image_inference_time)"
   ]
  },
  {
   "cell_type": "markdown",
   "metadata": {},
   "source": [
    "# SMCP TRAINING RELU"
   ]
  },
  {
   "cell_type": "markdown",
   "metadata": {},
   "source": [
    "## Setting up environment"
   ]
  },
  {
   "cell_type": "code",
   "execution_count": 24,
   "metadata": {},
   "outputs": [],
   "source": [
    "import torch\n",
    "import torch.nn as nn\n",
    "import torch.nn.functional as F\n",
    "import torch.optim as optim\n",
    "from torchvision import datasets, transforms"
   ]
  },
  {
   "cell_type": "code",
   "execution_count": 25,
   "metadata": {},
   "outputs": [
    {
     "name": "stderr",
     "output_type": "stream",
     "text": [
      "Falling back to insecure randomness since the required custom op could not be found for the installed version of TensorFlow. Fix this by compiling custom ops. Missing file was 'C:\\Users\\sergi\\Anaconda3\\lib\\site-packages\\tf_encrypted/operations/secure_random/secure_random_module_tf_1.15.3.so'\n"
     ]
    },
    {
     "name": "stdout",
     "output_type": "stream",
     "text": [
      "WARNING:tensorflow:From C:\\Users\\sergi\\Anaconda3\\lib\\site-packages\\tf_encrypted\\session.py:24: The name tf.Session is deprecated. Please use tf.compat.v1.Session instead.\n",
      "\n"
     ]
    }
   ],
   "source": [
    "import syft as sy  # <-- NEW: import the Pysyft library\n",
    "hook = sy.TorchHook(torch)  # <-- NEW: hook PyTorch ie add extra functionalities to support Federated Learning\n",
    "bob = sy.VirtualWorker(hook, id=\"bob\")  # <-- NEW: define remote worker bob\n",
    "alice = sy.VirtualWorker(hook, id=\"alice\")  # <-- NEW: and alice"
   ]
  },
  {
   "cell_type": "code",
   "execution_count": 26,
   "metadata": {},
   "outputs": [],
   "source": [
    "epochs = 3\n",
    "class Arguments():\n",
    "    def __init__(self):\n",
    "        self.batch_size = 64\n",
    "        self.test_batch_size = 1000\n",
    "        self.epochs = epochs\n",
    "        self.lr = 0.01\n",
    "        self.momentum = 0.5\n",
    "        self.no_cuda = False\n",
    "        self.seed = 1\n",
    "        self.log_interval = 30\n",
    "        self.save_model = False\n",
    "\n",
    "args = Arguments()\n",
    "\n",
    "use_cuda = not args.no_cuda and torch.cuda.is_available()\n",
    "\n",
    "torch.manual_seed(args.seed)\n",
    "\n",
    "device = torch.device(\"cuda\" if use_cuda else \"cpu\")\n",
    "\n",
    "kwargs = {'num_workers': 1, 'pin_memory': True} if use_cuda else {}"
   ]
  },
  {
   "cell_type": "markdown",
   "metadata": {},
   "source": [
    "## Preparing Dataset (SMCP - ReLU)"
   ]
  },
  {
   "cell_type": "code",
   "execution_count": 28,
   "metadata": {},
   "outputs": [
    {
     "name": "stdout",
     "output_type": "stream",
     "text": [
      "Downloading http://yann.lecun.com/exdb/mnist/train-images-idx3-ubyte.gz to C:\\Users\\sergi\\Desktop\\Issue#4003-PySyft\\files\\data\\MNIST\\raw\\train-images-idx3-ubyte.gz\n"
     ]
    },
    {
     "data": {
      "application/vnd.jupyter.widget-view+json": {
       "model_id": "76ba5a167f8d49a49410850de3b64b2d",
       "version_major": 2,
       "version_minor": 0
      },
      "text/plain": [
       "HBox(children=(FloatProgress(value=1.0, bar_style='info', max=1.0), HTML(value='')))"
      ]
     },
     "metadata": {},
     "output_type": "display_data"
    },
    {
     "name": "stdout",
     "output_type": "stream",
     "text": [
      "Extracting C:\\Users\\sergi\\Desktop\\Issue#4003-PySyft\\files\\data\\MNIST\\raw\\train-images-idx3-ubyte.gz to C:\\Users\\sergi\\Desktop\\Issue#4003-PySyft\\files\\data\\MNIST\\raw\n",
      "Downloading http://yann.lecun.com/exdb/mnist/train-labels-idx1-ubyte.gz to C:\\Users\\sergi\\Desktop\\Issue#4003-PySyft\\files\\data\\MNIST\\raw\\train-labels-idx1-ubyte.gz\n"
     ]
    },
    {
     "data": {
      "application/vnd.jupyter.widget-view+json": {
       "model_id": "7b0334be78b44da2af283807a06f2adf",
       "version_major": 2,
       "version_minor": 0
      },
      "text/plain": [
       "HBox(children=(FloatProgress(value=1.0, bar_style='info', max=1.0), HTML(value='')))"
      ]
     },
     "metadata": {},
     "output_type": "display_data"
    },
    {
     "name": "stdout",
     "output_type": "stream",
     "text": [
      "Extracting C:\\Users\\sergi\\Desktop\\Issue#4003-PySyft\\files\\data\\MNIST\\raw\\train-labels-idx1-ubyte.gz to C:\\Users\\sergi\\Desktop\\Issue#4003-PySyft\\files\\data\\MNIST\\raw\n",
      "Downloading http://yann.lecun.com/exdb/mnist/t10k-images-idx3-ubyte.gz to C:\\Users\\sergi\\Desktop\\Issue#4003-PySyft\\files\\data\\MNIST\\raw\\t10k-images-idx3-ubyte.gz\n"
     ]
    },
    {
     "data": {
      "application/vnd.jupyter.widget-view+json": {
       "model_id": "36e58b9bdb2343adb3f98077e32658f6",
       "version_major": 2,
       "version_minor": 0
      },
      "text/plain": [
       "HBox(children=(FloatProgress(value=1.0, bar_style='info', max=1.0), HTML(value='')))"
      ]
     },
     "metadata": {},
     "output_type": "display_data"
    },
    {
     "name": "stdout",
     "output_type": "stream",
     "text": [
      "Extracting C:\\Users\\sergi\\Desktop\\Issue#4003-PySyft\\files\\data\\MNIST\\raw\\t10k-images-idx3-ubyte.gz to C:\\Users\\sergi\\Desktop\\Issue#4003-PySyft\\files\\data\\MNIST\\raw\n",
      "Downloading http://yann.lecun.com/exdb/mnist/t10k-labels-idx1-ubyte.gz to C:\\Users\\sergi\\Desktop\\Issue#4003-PySyft\\files\\data\\MNIST\\raw\\t10k-labels-idx1-ubyte.gz\n"
     ]
    },
    {
     "data": {
      "application/vnd.jupyter.widget-view+json": {
       "model_id": "e6ae575062bf4205b887455d68761644",
       "version_major": 2,
       "version_minor": 0
      },
      "text/plain": [
       "HBox(children=(FloatProgress(value=1.0, bar_style='info', max=1.0), HTML(value='')))"
      ]
     },
     "metadata": {},
     "output_type": "display_data"
    },
    {
     "name": "stdout",
     "output_type": "stream",
     "text": [
      "Extracting C:\\Users\\sergi\\Desktop\\Issue#4003-PySyft\\files\\data\\MNIST\\raw\\t10k-labels-idx1-ubyte.gz to C:\\Users\\sergi\\Desktop\\Issue#4003-PySyft\\files\\data\\MNIST\\raw\n",
      "Processing...\n",
      "Done!\n",
      "\n",
      "\n",
      "\n",
      "\n"
     ]
    },
    {
     "name": "stderr",
     "output_type": "stream",
     "text": [
      "WARNING:root:The following options are not supported: num_workers: 1, pin_memory: True\n"
     ]
    }
   ],
   "source": [
    "federated_train_loader = sy.FederatedDataLoader( # <-- this is now a FederatedDataLoader \n",
    "    datasets.MNIST('C:\\\\Users\\\\sergi\\\\Desktop\\\\Issue#4003-PySyft\\\\files\\\\data', train=True, download=True,\n",
    "                   transform=transforms.Compose([\n",
    "                       transforms.ToTensor(),\n",
    "                       transforms.Normalize((0.1307,), (0.3081,))\n",
    "                   ]))\n",
    "    .federate((bob, alice)), # <-- NEW: we distribute the dataset across all the workers, it's now a FederatedDataset\n",
    "    batch_size=args.batch_size, shuffle=True, **kwargs)\n",
    "\n",
    "test_loader = torch.utils.data.DataLoader(\n",
    "    datasets.MNIST('C:\\\\Users\\\\sergi\\\\Desktop\\\\Issue#4003-PySyft\\\\files\\\\data', train=False, transform=transforms.Compose([\n",
    "                       transforms.ToTensor(),\n",
    "                       transforms.Normalize((0.1307,), (0.3081,))\n",
    "                   ])),\n",
    "    batch_size=args.test_batch_size, shuffle=True, **kwargs)"
   ]
  },
  {
   "cell_type": "markdown",
   "metadata": {},
   "source": [
    "## Building the Network (ReLU - SMCP)"
   ]
  },
  {
   "cell_type": "code",
   "execution_count": 32,
   "metadata": {},
   "outputs": [],
   "source": [
    "def __init__(self):\n",
    "    super(Net, self).__init__()\n",
    "    self.conv1 = nn.Conv2d(1, 20, 5, 1)\n",
    "    self.conv2 = nn.Conv2d(20, 50, 5, 1)\n",
    "    self.fc1 = nn.Linear(4*4*50, 500)\n",
    "    self.fc2 = nn.Linear(500, 10)\n",
    "\n",
    "def forward(self, x):\n",
    "    x = F.relu(self.conv1(x))\n",
    "    x = F.max_pool2d(x, 2, 2)\n",
    "    x = F.relu(self.conv2(x))\n",
    "    x = F.max_pool2d(x, 2, 2)\n",
    "    x = x.view(-1, 4*4*50)\n",
    "    x = F.relu(self.fc1(x))\n",
    "    x = self.fc2(x)\n",
    "    return F.log_softmax(x, dim=1)"
   ]
  },
  {
   "cell_type": "markdown",
   "metadata": {},
   "source": [
    "## Define train and test functions"
   ]
  },
  {
   "cell_type": "code",
   "execution_count": 33,
   "metadata": {},
   "outputs": [],
   "source": [
    "def train(args, model, device, federated_train_loader, optimizer, epoch):\n",
    "    model.train()\n",
    "    for batch_idx, (data, target) in enumerate(federated_train_loader): # <-- now it is a distributed dataset\n",
    "        model.send(data.location) # <-- NEW: send the model to the right location\n",
    "        data, target = data.to(device), target.to(device)\n",
    "        optimizer.zero_grad()\n",
    "        output = model(data)\n",
    "        loss = F.nll_loss(output, target)\n",
    "        loss.backward()\n",
    "        optimizer.step()\n",
    "        model.get() # <-- NEW: get the model back\n",
    "        if batch_idx % args.log_interval == 0:\n",
    "            loss = loss.get() # <-- NEW: get the loss back\n",
    "            print('Train Epoch: {} [{}/{} ({:.0f}%)]\\tLoss: {:.6f}'.format(\n",
    "                epoch, batch_idx * args.batch_size, len(federated_train_loader) * args.batch_size,\n",
    "                100. * batch_idx / len(federated_train_loader), loss.item()))"
   ]
  },
  {
   "cell_type": "code",
   "execution_count": 35,
   "metadata": {},
   "outputs": [],
   "source": [
    "def test(args, model, device, test_loader):\n",
    "    model.eval()\n",
    "    test_loss = 0\n",
    "    correct = 0\n",
    "    with torch.no_grad():\n",
    "        for data, target in test_loader:\n",
    "            data, target = data.to(device), target.to(device)\n",
    "            output = model(data)\n",
    "            test_loss += F.nll_loss(output, target, reduction='sum').item() # sum up batch loss\n",
    "            pred = output.argmax(1, keepdim=True) # get the index of the max log-probability \n",
    "            correct += pred.eq(target.view_as(pred)).sum().item()\n",
    "\n",
    "    test_loss /= len(test_loader.dataset)\n",
    "\n",
    "    print('\\nTest set: Average loss: {:.4f}, Accuracy: {}/{} ({:.0f}%)\\n'.format(\n",
    "        test_loss, correct, len(test_loader.dataset),\n",
    "        100. * correct / len(test_loader.dataset)))"
   ]
  },
  {
   "cell_type": "code",
   "execution_count": 36,
   "metadata": {},
   "outputs": [
    {
     "name": "stderr",
     "output_type": "stream",
     "text": [
      "C:\\Users\\sergi\\Anaconda3\\lib\\site-packages\\syft\\frameworks\\torch\\tensors\\interpreters\\native.py:401: UserWarning: Implicit dimension choice for log_softmax has been deprecated. Change the call to include dim=X as an argument.\n",
      "  response = command_method(*args_, **kwargs_)\n"
     ]
    },
    {
     "name": "stdout",
     "output_type": "stream",
     "text": [
      "Train Epoch: 1 [0/60032 (0%)]\tLoss: 2.322713\n",
      "Train Epoch: 1 [1920/60032 (3%)]\tLoss: 2.270324\n",
      "Train Epoch: 1 [3840/60032 (6%)]\tLoss: 2.260436\n",
      "Train Epoch: 1 [5760/60032 (10%)]\tLoss: 2.228289\n",
      "Train Epoch: 1 [7680/60032 (13%)]\tLoss: 2.122343\n",
      "Train Epoch: 1 [9600/60032 (16%)]\tLoss: 2.112478\n",
      "Train Epoch: 1 [11520/60032 (19%)]\tLoss: 1.769311\n",
      "Train Epoch: 1 [13440/60032 (22%)]\tLoss: 1.792582\n",
      "Train Epoch: 1 [15360/60032 (26%)]\tLoss: 1.675897\n",
      "Train Epoch: 1 [17280/60032 (29%)]\tLoss: 1.338713\n",
      "Train Epoch: 1 [19200/60032 (32%)]\tLoss: 1.281138\n",
      "Train Epoch: 1 [21120/60032 (35%)]\tLoss: 1.031008\n",
      "Train Epoch: 1 [23040/60032 (38%)]\tLoss: 1.137201\n",
      "Train Epoch: 1 [24960/60032 (42%)]\tLoss: 1.190476\n",
      "Train Epoch: 1 [26880/60032 (45%)]\tLoss: 0.953692\n",
      "Train Epoch: 1 [28800/60032 (48%)]\tLoss: 0.930310\n",
      "Train Epoch: 1 [30720/60032 (51%)]\tLoss: 0.884563\n",
      "Train Epoch: 1 [32640/60032 (54%)]\tLoss: 0.704290\n",
      "Train Epoch: 1 [34560/60032 (58%)]\tLoss: 0.923742\n",
      "Train Epoch: 1 [36480/60032 (61%)]\tLoss: 0.814103\n",
      "Train Epoch: 1 [38400/60032 (64%)]\tLoss: 0.744264\n",
      "Train Epoch: 1 [40320/60032 (67%)]\tLoss: 0.869502\n",
      "Train Epoch: 1 [42240/60032 (70%)]\tLoss: 0.712491\n",
      "Train Epoch: 1 [44160/60032 (74%)]\tLoss: 0.801687\n",
      "Train Epoch: 1 [46080/60032 (77%)]\tLoss: 0.791680\n",
      "Train Epoch: 1 [48000/60032 (80%)]\tLoss: 0.939259\n",
      "Train Epoch: 1 [49920/60032 (83%)]\tLoss: 0.841766\n",
      "Train Epoch: 1 [51840/60032 (86%)]\tLoss: 0.498283\n",
      "Train Epoch: 1 [53760/60032 (90%)]\tLoss: 0.548352\n",
      "Train Epoch: 1 [55680/60032 (93%)]\tLoss: 0.538406\n",
      "Train Epoch: 1 [57600/60032 (96%)]\tLoss: 0.755821\n",
      "Train Epoch: 1 [59520/60032 (99%)]\tLoss: 0.474768\n",
      "\n",
      "Test set: Average loss: 0.2885, Accuracy: 9197/10000 (92%)\n",
      "\n",
      "Train Epoch: 2 [0/60032 (0%)]\tLoss: 0.776697\n",
      "Train Epoch: 2 [1920/60032 (3%)]\tLoss: 0.834521\n",
      "Train Epoch: 2 [3840/60032 (6%)]\tLoss: 0.469446\n",
      "Train Epoch: 2 [5760/60032 (10%)]\tLoss: 0.769243\n",
      "Train Epoch: 2 [7680/60032 (13%)]\tLoss: 0.611877\n",
      "Train Epoch: 2 [9600/60032 (16%)]\tLoss: 0.587698\n",
      "Train Epoch: 2 [11520/60032 (19%)]\tLoss: 0.421833\n",
      "Train Epoch: 2 [13440/60032 (22%)]\tLoss: 0.517152\n",
      "Train Epoch: 2 [15360/60032 (26%)]\tLoss: 0.579640\n",
      "Train Epoch: 2 [17280/60032 (29%)]\tLoss: 0.468062\n",
      "Train Epoch: 2 [19200/60032 (32%)]\tLoss: 0.600913\n",
      "Train Epoch: 2 [21120/60032 (35%)]\tLoss: 0.528533\n",
      "Train Epoch: 2 [23040/60032 (38%)]\tLoss: 0.401965\n",
      "Train Epoch: 2 [24960/60032 (42%)]\tLoss: 0.372404\n",
      "Train Epoch: 2 [26880/60032 (45%)]\tLoss: 0.626700\n",
      "Train Epoch: 2 [28800/60032 (48%)]\tLoss: 0.520229\n",
      "Train Epoch: 2 [30720/60032 (51%)]\tLoss: 0.579449\n",
      "Train Epoch: 2 [32640/60032 (54%)]\tLoss: 0.383531\n",
      "Train Epoch: 2 [34560/60032 (58%)]\tLoss: 0.336770\n",
      "Train Epoch: 2 [36480/60032 (61%)]\tLoss: 0.712503\n",
      "Train Epoch: 2 [38400/60032 (64%)]\tLoss: 0.392831\n",
      "Train Epoch: 2 [40320/60032 (67%)]\tLoss: 0.504108\n",
      "Train Epoch: 2 [42240/60032 (70%)]\tLoss: 0.575837\n",
      "Train Epoch: 2 [44160/60032 (74%)]\tLoss: 0.793300\n",
      "Train Epoch: 2 [46080/60032 (77%)]\tLoss: 0.442309\n",
      "Train Epoch: 2 [48000/60032 (80%)]\tLoss: 0.532291\n",
      "Train Epoch: 2 [49920/60032 (83%)]\tLoss: 0.450315\n",
      "Train Epoch: 2 [51840/60032 (86%)]\tLoss: 0.478937\n",
      "Train Epoch: 2 [53760/60032 (90%)]\tLoss: 0.479440\n",
      "Train Epoch: 2 [55680/60032 (93%)]\tLoss: 0.517759\n",
      "Train Epoch: 2 [57600/60032 (96%)]\tLoss: 0.384866\n",
      "Train Epoch: 2 [59520/60032 (99%)]\tLoss: 0.327969\n",
      "\n",
      "Test set: Average loss: 0.1757, Accuracy: 9467/10000 (95%)\n",
      "\n",
      "Train Epoch: 3 [0/60032 (0%)]\tLoss: 0.459769\n",
      "Train Epoch: 3 [1920/60032 (3%)]\tLoss: 0.329252\n",
      "Train Epoch: 3 [3840/60032 (6%)]\tLoss: 0.534184\n",
      "Train Epoch: 3 [5760/60032 (10%)]\tLoss: 0.455306\n",
      "Train Epoch: 3 [7680/60032 (13%)]\tLoss: 0.690400\n",
      "Train Epoch: 3 [9600/60032 (16%)]\tLoss: 0.464231\n",
      "Train Epoch: 3 [11520/60032 (19%)]\tLoss: 0.282084\n",
      "Train Epoch: 3 [13440/60032 (22%)]\tLoss: 0.358806\n",
      "Train Epoch: 3 [15360/60032 (26%)]\tLoss: 0.287085\n",
      "Train Epoch: 3 [17280/60032 (29%)]\tLoss: 0.643214\n",
      "Train Epoch: 3 [19200/60032 (32%)]\tLoss: 0.220942\n",
      "Train Epoch: 3 [21120/60032 (35%)]\tLoss: 0.444295\n",
      "Train Epoch: 3 [23040/60032 (38%)]\tLoss: 0.647151\n",
      "Train Epoch: 3 [24960/60032 (42%)]\tLoss: 0.438948\n",
      "Train Epoch: 3 [26880/60032 (45%)]\tLoss: 0.293545\n",
      "Train Epoch: 3 [28800/60032 (48%)]\tLoss: 0.315110\n",
      "Train Epoch: 3 [30720/60032 (51%)]\tLoss: 0.567332\n",
      "Train Epoch: 3 [32640/60032 (54%)]\tLoss: 0.274982\n",
      "Train Epoch: 3 [34560/60032 (58%)]\tLoss: 0.466195\n",
      "Train Epoch: 3 [36480/60032 (61%)]\tLoss: 0.336598\n",
      "Train Epoch: 3 [38400/60032 (64%)]\tLoss: 0.466334\n",
      "Train Epoch: 3 [40320/60032 (67%)]\tLoss: 0.312289\n",
      "Train Epoch: 3 [42240/60032 (70%)]\tLoss: 0.621955\n",
      "Train Epoch: 3 [44160/60032 (74%)]\tLoss: 0.587875\n",
      "Train Epoch: 3 [46080/60032 (77%)]\tLoss: 0.598642\n",
      "Train Epoch: 3 [48000/60032 (80%)]\tLoss: 0.637944\n",
      "Train Epoch: 3 [49920/60032 (83%)]\tLoss: 0.335086\n",
      "Train Epoch: 3 [51840/60032 (86%)]\tLoss: 0.400054\n",
      "Train Epoch: 3 [53760/60032 (90%)]\tLoss: 0.295992\n",
      "Train Epoch: 3 [55680/60032 (93%)]\tLoss: 0.460777\n",
      "Train Epoch: 3 [57600/60032 (96%)]\tLoss: 0.262538\n",
      "Train Epoch: 3 [59520/60032 (99%)]\tLoss: 0.289147\n",
      "\n",
      "Test set: Average loss: 0.1389, Accuracy: 9561/10000 (96%)\n",
      "\n",
      "Wall time: 6min 7s\n"
     ]
    }
   ],
   "source": [
    "%%time\n",
    "model = Net().to(device)\n",
    "optimizer = optim.SGD(model.parameters(), lr=args.lr) # TODO momentum is not supported at the moment\n",
    "\n",
    "for epoch in range(1, args.epochs + 1):\n",
    "    train(args, model, device, federated_train_loader, optimizer, epoch)\n",
    "    test(args, model, device, test_loader)\n",
    "\n",
    "if (args.save_model):\n",
    "    torch.save(model.state_dict(), \"mnist_cnn.pt\")"
   ]
  },
  {
   "cell_type": "code",
   "execution_count": 47,
   "metadata": {},
   "outputs": [],
   "source": [
    "def test_100(args, model, device, test_loader):\n",
    "    model.eval()\n",
    "    iter = 0;\n",
    "    test_loss = 0\n",
    "    correct = 0\n",
    "    with torch.no_grad():\n",
    "        for data, target in test_loader:\n",
    "            data, target = data.to(device), target.to(device)\n",
    "            output = model(data)\n",
    "            test_loss += F.nll_loss(output, target, reduction='sum').item() # sum up batch loss\n",
    "            pred = output.argmax(1, keepdim=True) # get the index of the max log-probability \n",
    "            correct += pred.eq(target.view_as(pred)).sum().item()\n",
    "            iter += 1\n",
    "            if (iter == 100):\n",
    "                break\n",
    "\n",
    "    test_loss /= len(test_loader.dataset)\n",
    "\n",
    "    print('\\nTest set: Average loss: {:.4f}, Accuracy: {}/{} ({:.0f}%)\\n'.format(\n",
    "        test_loss, correct, len(test_loader.dataset),\n",
    "        100. * correct / len(test_loader.dataset)))"
   ]
  },
  {
   "cell_type": "code",
   "execution_count": 48,
   "metadata": {},
   "outputs": [
    {
     "name": "stderr",
     "output_type": "stream",
     "text": [
      "C:\\Users\\sergi\\Anaconda3\\lib\\site-packages\\syft\\frameworks\\torch\\tensors\\interpreters\\native.py:401: UserWarning: Implicit dimension choice for log_softmax has been deprecated. Change the call to include dim=X as an argument.\n",
      "  response = command_method(*args_, **kwargs_)\n"
     ]
    },
    {
     "name": "stdout",
     "output_type": "stream",
     "text": [
      "\n",
      "Test set: Average loss: 0.1389, Accuracy: 9561/10000 (96%)\n",
      "\n"
     ]
    },
    {
     "data": {
      "text/plain": [
       "3.132991700000048"
      ]
     },
     "execution_count": 48,
     "metadata": {},
     "output_type": "execute_result"
    }
   ],
   "source": [
    "from time import perf_counter\n",
    "\n",
    "t1_start = perf_counter()\n",
    "test_100(args, model, device, test_loader)\n",
    "inference_time_on_100_images = perf_counter() - t1_start\n",
    "inference_time_on_100_images"
   ]
  },
  {
   "cell_type": "code",
   "execution_count": 50,
   "metadata": {},
   "outputs": [],
   "source": [
    "activation_functions.append('ReLU SMCP')\n",
    "avg_image_inference_time.append(inference_time_on_100_images / 100)"
   ]
  },
  {
   "cell_type": "code",
   "execution_count": 57,
   "metadata": {},
   "outputs": [
    {
     "data": {
      "image/png": "[encoded data removed]",
      "text/plain": [
       "<Figure size 432x288 with 1 Axes>"
      ]
     },
     "metadata": {
      "needs_background": "light"
     },
     "output_type": "display_data"
    }
   ],
   "source": [
    "fig, ax = plt.subplots()\n",
    "ax.bar(x=activation_functions, height=avg_image_inference_time)\n",
    "ax.set_xlabel('Activation functions')\n",
    "ax.set_ylabel('Inference time per image (s)')\n",
    "plt.show()\n",
    "fig.savefig('ReLU vs Relu SMCP.jpg', dpi=100)"
   ]
  },
  {
   "cell_type": "code",
   "execution_count": null,
   "metadata": {},
   "outputs": [],
   "source": []
  },
  {
   "cell_type": "code",
   "execution_count": null,
   "metadata": {},
   "outputs": [],
   "source": []
  },
  {
   "cell_type": "code",
   "execution_count": null,
   "metadata": {},
   "outputs": [],
   "source": []
  }
 ],
 "metadata": {
  "kernelspec": {
   "display_name": "Python 3",
   "language": "python",
   "name": "python3"
  },
  "language_info": {
   "codemirror_mode": {
    "name": "ipython",
    "version": 3
   },
   "file_extension": ".py",
   "mimetype": "text/x-python",
   "name": "python",
   "nbconvert_exporter": "python",
   "pygments_lexer": "ipython3",
   "version": "3.7.7"
  }
 },
 "nbformat": 4,
 "nbformat_minor": 4
}
